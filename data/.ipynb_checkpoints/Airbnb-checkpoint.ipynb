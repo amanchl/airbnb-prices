{
 "cells": [
  {
   "cell_type": "markdown",
   "metadata": {},
   "source": [
    "# Airbnb Price Predictor"
   ]
  },
  {
   "cell_type": "markdown",
   "metadata": {},
   "source": [
    "In this notebook, I will be predicting Airbnb prices using a Kaggle dataset and regression models. "
   ]
  },
  {
   "cell_type": "code",
   "execution_count": 1,
   "metadata": {},
   "outputs": [],
   "source": [
    "import pandas as pd \n",
    "import numpy as np \n",
    "import matplotlib.pyplot as plt \n",
    "from IPython.display import display\n",
    "import seaborn as sns\n",
    "from sklearn_pandas import DataFrameMapper\n",
    "from sklearn.linear_model import LinearRegression,LogisticRegression\n",
    "from sklearn.model_selection import train_test_split, KFold, cross_val_score\n",
    "from sklearn.preprocessing import LabelBinarizer, StandardScaler, LabelEncoder,PolynomialFeatures, MultiLabelBinarizer\n",
    "from sklearn.impute import SimpleImputer\n",
    "from sklearn.neighbors import KNeighborsClassifier\n",
    "from sklearn.metrics import mean_squared_error\n",
    "from math import sqrt\n",
    "from sklearn.preprocessing import FunctionTransformer\n",
    "from sklearn_pandas import CategoricalImputer\n",
    "from sklearn.dummy import DummyRegressor\n",
    "import warnings\n",
    "warnings.simplefilter(action='ignore', category=FutureWarning)\n",
    "from sklearn.linear_model import Lasso, Ridge, LassoCV, RidgeCV\n",
    "import copy\n",
    "from sklearn.svm import SVC\n",
    "import seaborn as sns"
   ]
  },
  {
   "cell_type": "code",
   "execution_count": 2,
   "metadata": {},
   "outputs": [],
   "source": [
    "#import datasets\n",
    "airbnb = pd.read_csv(\"train.csv\")\n",
    "testset = pd.read_csv(\"test.csv\")"
   ]
  },
  {
   "cell_type": "code",
   "execution_count": 3,
   "metadata": {},
   "outputs": [],
   "source": [
    "pd.set_option('display.max_columns', 500)"
   ]
  },
  {
   "cell_type": "code",
   "execution_count": 4,
   "metadata": {},
   "outputs": [
    {
     "data": {
      "text/plain": [
       "Index(['id', 'property_type', 'room_type', 'amenities', 'accommodates',\n",
       "       'bathrooms', 'bed_type', 'cancellation_policy', 'cleaning_fee', 'city',\n",
       "       'description', 'host_has_profile_pic', 'host_identity_verified',\n",
       "       'host_response_rate', 'host_since', 'instant_bookable', 'latitude',\n",
       "       'longitude', 'name', 'neighbourhood', 'number_of_reviews',\n",
       "       'review_scores_rating', 'zipcode', 'bedrooms', 'beds', 'price'],\n",
       "      dtype='object')"
      ]
     },
     "execution_count": 4,
     "metadata": {},
     "output_type": "execute_result"
    }
   ],
   "source": [
    "airbnb.columns"
   ]
  },
  {
   "cell_type": "code",
   "execution_count": 5,
   "metadata": {},
   "outputs": [
    {
     "data": {
      "text/html": [
       "<div>\n",
       "<style scoped>\n",
       "    .dataframe tbody tr th:only-of-type {\n",
       "        vertical-align: middle;\n",
       "    }\n",
       "\n",
       "    .dataframe tbody tr th {\n",
       "        vertical-align: top;\n",
       "    }\n",
       "\n",
       "    .dataframe thead th {\n",
       "        text-align: right;\n",
       "    }\n",
       "</style>\n",
       "<table border=\"1\" class=\"dataframe\">\n",
       "  <thead>\n",
       "    <tr style=\"text-align: right;\">\n",
       "      <th></th>\n",
       "      <th>id</th>\n",
       "      <th>property_type</th>\n",
       "      <th>room_type</th>\n",
       "      <th>amenities</th>\n",
       "      <th>accommodates</th>\n",
       "      <th>bathrooms</th>\n",
       "      <th>bed_type</th>\n",
       "      <th>cancellation_policy</th>\n",
       "      <th>cleaning_fee</th>\n",
       "      <th>city</th>\n",
       "      <th>description</th>\n",
       "      <th>host_has_profile_pic</th>\n",
       "      <th>host_identity_verified</th>\n",
       "      <th>host_response_rate</th>\n",
       "      <th>host_since</th>\n",
       "      <th>instant_bookable</th>\n",
       "      <th>latitude</th>\n",
       "      <th>longitude</th>\n",
       "      <th>name</th>\n",
       "      <th>neighbourhood</th>\n",
       "      <th>number_of_reviews</th>\n",
       "      <th>review_scores_rating</th>\n",
       "      <th>zipcode</th>\n",
       "      <th>bedrooms</th>\n",
       "      <th>beds</th>\n",
       "      <th>price</th>\n",
       "    </tr>\n",
       "  </thead>\n",
       "  <tbody>\n",
       "    <tr>\n",
       "      <th>0</th>\n",
       "      <td>46730</td>\n",
       "      <td>Apartment</td>\n",
       "      <td>Shared room</td>\n",
       "      <td>{TV,\"Wireless Internet\",\"Air conditioning\",Kit...</td>\n",
       "      <td>2</td>\n",
       "      <td>1.0</td>\n",
       "      <td>Real Bed</td>\n",
       "      <td>flexible</td>\n",
       "      <td>False</td>\n",
       "      <td>NYC</td>\n",
       "      <td>Квартира рядом с метро ( 3мин пешком) 4 станци...</td>\n",
       "      <td>t</td>\n",
       "      <td>f</td>\n",
       "      <td>NaN</td>\n",
       "      <td>2016-12-14</td>\n",
       "      <td>t</td>\n",
       "      <td>40.577507</td>\n",
       "      <td>-73.985210</td>\n",
       "      <td>Не дорогая комната в Нью-Йорке, в Бруклине</td>\n",
       "      <td>Coney Island</td>\n",
       "      <td>1</td>\n",
       "      <td>100.0</td>\n",
       "      <td>11224.0</td>\n",
       "      <td>1.0</td>\n",
       "      <td>1.0</td>\n",
       "      <td>50.0</td>\n",
       "    </tr>\n",
       "    <tr>\n",
       "      <th>1</th>\n",
       "      <td>48393</td>\n",
       "      <td>Apartment</td>\n",
       "      <td>Entire home/apt</td>\n",
       "      <td>{TV,Internet,\"Wireless Internet\",\"Air conditio...</td>\n",
       "      <td>2</td>\n",
       "      <td>3.0</td>\n",
       "      <td>Real Bed</td>\n",
       "      <td>moderate</td>\n",
       "      <td>True</td>\n",
       "      <td>LA</td>\n",
       "      <td>Spacious, bright penthouse loft Condo in Brent...</td>\n",
       "      <td>t</td>\n",
       "      <td>f</td>\n",
       "      <td>NaN</td>\n",
       "      <td>2016-02-27</td>\n",
       "      <td>f</td>\n",
       "      <td>34.047200</td>\n",
       "      <td>-118.465782</td>\n",
       "      <td>Penthouse Loft Condo in Brentwood</td>\n",
       "      <td>Brentwood</td>\n",
       "      <td>2</td>\n",
       "      <td>100.0</td>\n",
       "      <td>90049</td>\n",
       "      <td>1.0</td>\n",
       "      <td>1.0</td>\n",
       "      <td>200.0</td>\n",
       "    </tr>\n",
       "    <tr>\n",
       "      <th>2</th>\n",
       "      <td>41416</td>\n",
       "      <td>Apartment</td>\n",
       "      <td>Private room</td>\n",
       "      <td>{TV,\"Cable TV\",\"Wireless Internet\",\"Air condit...</td>\n",
       "      <td>2</td>\n",
       "      <td>2.0</td>\n",
       "      <td>Real Bed</td>\n",
       "      <td>flexible</td>\n",
       "      <td>False</td>\n",
       "      <td>NYC</td>\n",
       "      <td>Washington Heights. Brand new renovated, dark ...</td>\n",
       "      <td>t</td>\n",
       "      <td>t</td>\n",
       "      <td>70%</td>\n",
       "      <td>2012-03-05</td>\n",
       "      <td>f</td>\n",
       "      <td>40.853085</td>\n",
       "      <td>-73.928880</td>\n",
       "      <td>French Night in NYC</td>\n",
       "      <td>Washington Heights</td>\n",
       "      <td>0</td>\n",
       "      <td>NaN</td>\n",
       "      <td>10040</td>\n",
       "      <td>3.0</td>\n",
       "      <td>1.0</td>\n",
       "      <td>45.0</td>\n",
       "    </tr>\n",
       "    <tr>\n",
       "      <th>3</th>\n",
       "      <td>34506</td>\n",
       "      <td>Apartment</td>\n",
       "      <td>Entire home/apt</td>\n",
       "      <td>{\"Wireless Internet\",Kitchen,\"Family/kid frien...</td>\n",
       "      <td>4</td>\n",
       "      <td>1.0</td>\n",
       "      <td>Real Bed</td>\n",
       "      <td>moderate</td>\n",
       "      <td>True</td>\n",
       "      <td>NYC</td>\n",
       "      <td>Brownstone apartment in Harlem. Very quiet blo...</td>\n",
       "      <td>t</td>\n",
       "      <td>f</td>\n",
       "      <td>100%</td>\n",
       "      <td>2017-07-31</td>\n",
       "      <td>f</td>\n",
       "      <td>40.807185</td>\n",
       "      <td>-73.949837</td>\n",
       "      <td>Harlem brownstone apartment</td>\n",
       "      <td>Harlem</td>\n",
       "      <td>2</td>\n",
       "      <td>100.0</td>\n",
       "      <td>10027</td>\n",
       "      <td>2.0</td>\n",
       "      <td>3.0</td>\n",
       "      <td>130.0</td>\n",
       "    </tr>\n",
       "    <tr>\n",
       "      <th>4</th>\n",
       "      <td>43725</td>\n",
       "      <td>Apartment</td>\n",
       "      <td>Entire home/apt</td>\n",
       "      <td>{TV,\"Cable TV\",Internet,\"Wireless Internet\",\"A...</td>\n",
       "      <td>4</td>\n",
       "      <td>1.0</td>\n",
       "      <td>Real Bed</td>\n",
       "      <td>strict</td>\n",
       "      <td>True</td>\n",
       "      <td>DC</td>\n",
       "      <td>Welcome to my flat in DC!   About the apartmen...</td>\n",
       "      <td>t</td>\n",
       "      <td>f</td>\n",
       "      <td>50%</td>\n",
       "      <td>2011-05-22</td>\n",
       "      <td>f</td>\n",
       "      <td>38.900307</td>\n",
       "      <td>-77.016468</td>\n",
       "      <td>\"The Family\" Flat Downtown DC- 1023</td>\n",
       "      <td>Judiciary Square</td>\n",
       "      <td>102</td>\n",
       "      <td>95.0</td>\n",
       "      <td>20001</td>\n",
       "      <td>1.0</td>\n",
       "      <td>1.0</td>\n",
       "      <td>215.0</td>\n",
       "    </tr>\n",
       "  </tbody>\n",
       "</table>\n",
       "</div>"
      ],
      "text/plain": [
       "      id property_type        room_type  \\\n",
       "0  46730     Apartment      Shared room   \n",
       "1  48393     Apartment  Entire home/apt   \n",
       "2  41416     Apartment     Private room   \n",
       "3  34506     Apartment  Entire home/apt   \n",
       "4  43725     Apartment  Entire home/apt   \n",
       "\n",
       "                                           amenities  accommodates  bathrooms  \\\n",
       "0  {TV,\"Wireless Internet\",\"Air conditioning\",Kit...             2        1.0   \n",
       "1  {TV,Internet,\"Wireless Internet\",\"Air conditio...             2        3.0   \n",
       "2  {TV,\"Cable TV\",\"Wireless Internet\",\"Air condit...             2        2.0   \n",
       "3  {\"Wireless Internet\",Kitchen,\"Family/kid frien...             4        1.0   \n",
       "4  {TV,\"Cable TV\",Internet,\"Wireless Internet\",\"A...             4        1.0   \n",
       "\n",
       "   bed_type cancellation_policy  cleaning_fee city  \\\n",
       "0  Real Bed            flexible         False  NYC   \n",
       "1  Real Bed            moderate          True   LA   \n",
       "2  Real Bed            flexible         False  NYC   \n",
       "3  Real Bed            moderate          True  NYC   \n",
       "4  Real Bed              strict          True   DC   \n",
       "\n",
       "                                         description host_has_profile_pic  \\\n",
       "0  Квартира рядом с метро ( 3мин пешком) 4 станци...                    t   \n",
       "1  Spacious, bright penthouse loft Condo in Brent...                    t   \n",
       "2  Washington Heights. Brand new renovated, dark ...                    t   \n",
       "3  Brownstone apartment in Harlem. Very quiet blo...                    t   \n",
       "4  Welcome to my flat in DC!   About the apartmen...                    t   \n",
       "\n",
       "  host_identity_verified host_response_rate  host_since instant_bookable  \\\n",
       "0                      f                NaN  2016-12-14                t   \n",
       "1                      f                NaN  2016-02-27                f   \n",
       "2                      t                70%  2012-03-05                f   \n",
       "3                      f               100%  2017-07-31                f   \n",
       "4                      f                50%  2011-05-22                f   \n",
       "\n",
       "    latitude   longitude                                        name  \\\n",
       "0  40.577507  -73.985210  Не дорогая комната в Нью-Йорке, в Бруклине   \n",
       "1  34.047200 -118.465782           Penthouse Loft Condo in Brentwood   \n",
       "2  40.853085  -73.928880                         French Night in NYC   \n",
       "3  40.807185  -73.949837                 Harlem brownstone apartment   \n",
       "4  38.900307  -77.016468         \"The Family\" Flat Downtown DC- 1023   \n",
       "\n",
       "        neighbourhood  number_of_reviews  review_scores_rating  zipcode  \\\n",
       "0        Coney Island                  1                 100.0  11224.0   \n",
       "1           Brentwood                  2                 100.0    90049   \n",
       "2  Washington Heights                  0                   NaN    10040   \n",
       "3              Harlem                  2                 100.0    10027   \n",
       "4    Judiciary Square                102                  95.0    20001   \n",
       "\n",
       "   bedrooms  beds  price  \n",
       "0       1.0   1.0   50.0  \n",
       "1       1.0   1.0  200.0  \n",
       "2       3.0   1.0   45.0  \n",
       "3       2.0   3.0  130.0  \n",
       "4       1.0   1.0  215.0  "
      ]
     },
     "execution_count": 5,
     "metadata": {},
     "output_type": "execute_result"
    }
   ],
   "source": [
    "airbnb.head()"
   ]
  },
  {
   "cell_type": "code",
   "execution_count": 6,
   "metadata": {},
   "outputs": [
    {
     "data": {
      "image/png": "[encoded data removed]",
      "text/plain": [
       "<Figure size 432x288 with 2 Axes>"
      ]
     },
     "metadata": {
      "needs_background": "light"
     },
     "output_type": "display_data"
    }
   ],
   "source": [
    "sns.heatmap(airbnb.corr(), annot=True)\n",
    "sns.set(rc={'figure.figsize':(20,15)})"
   ]
  },
  {
   "cell_type": "code",
   "execution_count": 7,
   "metadata": {},
   "outputs": [],
   "source": [
    "#dummy regression\n",
    "\n",
    "y = airbnb['price']\n",
    "\n",
    "X = airbnb.drop(['price'], axis = 1)\n",
    "\n",
    "X_train, X_test, y_train, y_test = train_test_split(X, y, test_size = .2, random_state = 42)"
   ]
  },
  {
   "cell_type": "code",
   "execution_count": 8,
   "metadata": {},
   "outputs": [
    {
     "data": {
      "text/plain": [
       "-0.08768506175434498"
      ]
     },
     "execution_count": 8,
     "metadata": {},
     "output_type": "execute_result"
    }
   ],
   "source": [
    "dummy_mean = DummyRegressor(strategy = \"median\")\n",
    "dummy_mean.fit(X_train, y_train)\n",
    "dummy_mean.score(X_train, y_train)"
   ]
  },
  {
   "cell_type": "code",
   "execution_count": 9,
   "metadata": {},
   "outputs": [
    {
     "data": {
      "text/plain": [
       "-0.08554111462677172"
      ]
     },
     "execution_count": 9,
     "metadata": {},
     "output_type": "execute_result"
    }
   ],
   "source": [
    "dummy_mean.score(X_test, y_test)"
   ]
  },
  {
   "cell_type": "code",
   "execution_count": 10,
   "metadata": {},
   "outputs": [],
   "source": [
    "#combine datasets\n",
    "airbnb_num = len(airbnb)\n",
    "combined = pd.concat(objs=[airbnb, testset], axis=0)\n",
    "#train = copy.copy(dataset[:train_objs_num])\n",
    "#test = copy.copy(dataset[train_objs_num:])"
   ]
  },
  {
   "cell_type": "code",
   "execution_count": 11,
   "metadata": {},
   "outputs": [],
   "source": [
    "combined[\"host_response_rate\"] = combined[\"host_response_rate\"].str.strip('%')\n",
    "combined[\"host_response_rate\"] = pd.to_numeric(combined[\"host_response_rate\"])\n",
    "combined[\"host_since\"] = combined[\"host_since\"].str[:4]\n",
    "combined[\"host_since\"] = pd.to_numeric(combined[\"host_since\"])"
   ]
  },
  {
   "cell_type": "code",
   "execution_count": 12,
   "metadata": {},
   "outputs": [],
   "source": [
    "mapper = DataFrameMapper([\n",
    "    ('id', None),\n",
    "    ('property_type', LabelBinarizer()),\n",
    "    ('room_type', LabelBinarizer()),\n",
    "    ('amenities', None),\n",
    "    (['accommodates'], StandardScaler()),\n",
    "    (['bathrooms'], [SimpleImputer(strategy='mean'),StandardScaler()]),\n",
    "    ('bed_type', LabelBinarizer()),\n",
    "    ('cancellation_policy', LabelBinarizer()),\n",
    "    ('cleaning_fee', LabelEncoder()),\n",
    "    ('city', LabelBinarizer()),\n",
    "    ('description', None),\n",
    "    (['host_has_profile_pic'], [CategoricalImputer(strategy='most_frequent'),LabelEncoder()]),\n",
    "    (['host_identity_verified'], [CategoricalImputer(strategy='most_frequent'), LabelEncoder()]),\n",
    "    (['host_response_rate'], [SimpleImputer(strategy='mean'),StandardScaler()]),                                                  \n",
    "    (['host_since'], [SimpleImputer(strategy='median'),StandardScaler()]),\n",
    "    ('instant_bookable', LabelEncoder()),\n",
    "    (['latitude'], StandardScaler()),\n",
    "    (['longitude'], StandardScaler()),\n",
    "    ('name', None),\n",
    "    ('neighbourhood', None),\n",
    "    (['number_of_reviews'], StandardScaler()),\n",
    "    (['review_scores_rating'], [SimpleImputer(strategy='mean'),StandardScaler()]),\n",
    "    ('zipcode', [CategoricalImputer(strategy='most_frequent'),LabelBinarizer()]),\n",
    "    (['bedrooms'], [SimpleImputer(strategy='mean'),StandardScaler()]),\n",
    "    (['beds'], [SimpleImputer(strategy='mean'),StandardScaler()]),\n",
    "    ('price', None)\n",
    "], df_out=True)\n",
    "\n",
    "#'zipcode', [CategoricalImputer(strategy='most_frequent'),LabelBinarizer()]),"
   ]
  },
  {
   "cell_type": "code",
   "execution_count": 13,
   "metadata": {},
   "outputs": [
    {
     "name": "stderr",
     "output_type": "stream",
     "text": [
      "/Users/sunnychahal/anaconda3/lib/python3.7/site-packages/sklearn/utils/validation.py:595: DataConversionWarning: Data with input dtype int64 was converted to float64 by StandardScaler.\n",
      "  warnings.warn(msg, DataConversionWarning)\n",
      "/Users/sunnychahal/anaconda3/lib/python3.7/site-packages/sklearn/utils/validation.py:595: DataConversionWarning: Data with input dtype int64 was converted to float64 by StandardScaler.\n",
      "  warnings.warn(msg, DataConversionWarning)\n",
      "/Users/sunnychahal/anaconda3/lib/python3.7/site-packages/sklearn/preprocessing/label.py:235: DataConversionWarning: A column-vector y was passed when a 1d array was expected. Please change the shape of y to (n_samples, ), for example using ravel().\n",
      "  y = column_or_1d(y, warn=True)\n",
      "/Users/sunnychahal/anaconda3/lib/python3.7/site-packages/sklearn/preprocessing/label.py:235: DataConversionWarning: A column-vector y was passed when a 1d array was expected. Please change the shape of y to (n_samples, ), for example using ravel().\n",
      "  y = column_or_1d(y, warn=True)\n",
      "/Users/sunnychahal/anaconda3/lib/python3.7/site-packages/sklearn/utils/validation.py:595: DataConversionWarning: Data with input dtype int64 was converted to float64 by StandardScaler.\n",
      "  warnings.warn(msg, DataConversionWarning)\n",
      "/Users/sunnychahal/anaconda3/lib/python3.7/site-packages/sklearn/utils/validation.py:595: DataConversionWarning: Data with input dtype int64 was converted to float64 by StandardScaler.\n",
      "  warnings.warn(msg, DataConversionWarning)\n"
     ]
    }
   ],
   "source": [
    "combined = mapper.fit_transform(combined)"
   ]
  },
  {
   "cell_type": "code",
   "execution_count": 14,
   "metadata": {},
   "outputs": [],
   "source": [
    "combined['amenities'] = combined['amenities'].str.split(\",\")\n",
    "\n",
    "s = combined['amenities']\n",
    "\n",
    "mlb = MultiLabelBinarizer()\n",
    "\n",
    "amenlist = pd.DataFrame(mlb.fit_transform(s),columns=mlb.classes_, index=combined.index)"
   ]
  },
  {
   "cell_type": "code",
   "execution_count": 15,
   "metadata": {},
   "outputs": [],
   "source": [
    "combined = pd.concat([combined, amenlist], axis= 1)"
   ]
  },
  {
   "cell_type": "code",
   "execution_count": 16,
   "metadata": {},
   "outputs": [],
   "source": [
    "combined['bathrooms*bedrooms*beds'] = combined['bathrooms']*combined['bedrooms']*combined['beds']\n",
    "combined['number_of_reviews*review_scores_rating'] = combined['number_of_reviews']*combined['review_scores_rating']\n",
    "combined['latitude*longitude'] = combined['latitude']*combined['longitude']"
   ]
  },
  {
   "cell_type": "code",
   "execution_count": 18,
   "metadata": {},
   "outputs": [],
   "source": [
    "#separate datasets\n",
    "bnb = copy.copy(combined[:airbnb_num])\n",
    "test = copy.copy(combined[airbnb_num:])"
   ]
  },
  {
   "cell_type": "code",
   "execution_count": 19,
   "metadata": {},
   "outputs": [],
   "source": [
    "y = bnb['price']\n",
    "\n",
    "X = bnb.drop(['price', 'id', 'amenities', 'description',\n",
    "                 'name', 'neighbourhood'], axis = 1)\n",
    "\n",
    "X_train, X_test, y_train, y_test = train_test_split(X, y, test_size = .2, random_state = 42)"
   ]
  },
  {
   "cell_type": "code",
   "execution_count": 20,
   "metadata": {},
   "outputs": [],
   "source": [
    "#ridge regression model\n",
    "\n",
    "r_alphas = np.logspace(0, 20, 100)\n",
    "\n",
    "ridge_model = RidgeCV(alphas=r_alphas, scoring='r2', cv=5)\n",
    "\n",
    "ridge_model = ridge_model.fit(X_train, y_train)"
   ]
  },
  {
   "cell_type": "code",
   "execution_count": 21,
   "metadata": {},
   "outputs": [
    {
     "data": {
      "text/plain": [
       "0.5062398862229802"
      ]
     },
     "execution_count": 21,
     "metadata": {},
     "output_type": "execute_result"
    }
   ],
   "source": [
    "ridge_model.score(X_train, y_train)"
   ]
  },
  {
   "cell_type": "code",
   "execution_count": 22,
   "metadata": {},
   "outputs": [
    {
     "data": {
      "text/plain": [
       "0.4976606043364887"
      ]
     },
     "execution_count": 22,
     "metadata": {},
     "output_type": "execute_result"
    }
   ],
   "source": [
    "ridge_model.score(X_test, y_test)"
   ]
  },
  {
   "cell_type": "code",
   "execution_count": 23,
   "metadata": {},
   "outputs": [],
   "source": [
    "ridge_optimal_alpha = ridge_model.alpha_"
   ]
  },
  {
   "cell_type": "code",
   "execution_count": 24,
   "metadata": {},
   "outputs": [
    {
     "data": {
      "text/plain": [
       "0.5062398862229802"
      ]
     },
     "execution_count": 24,
     "metadata": {},
     "output_type": "execute_result"
    }
   ],
   "source": [
    "ridge_opt = Ridge(alpha=ridge_optimal_alpha)\n",
    "\n",
    "ridge_opt.fit(X_train, y_train)\n",
    "ridge_opt.score(X_train, y_train)"
   ]
  },
  {
   "cell_type": "code",
   "execution_count": 25,
   "metadata": {},
   "outputs": [
    {
     "data": {
      "text/plain": [
       "0.4976606043364887"
      ]
     },
     "execution_count": 25,
     "metadata": {},
     "output_type": "execute_result"
    }
   ],
   "source": [
    "ridge_opt.score(X_test, y_test)"
   ]
  },
  {
   "cell_type": "code",
   "execution_count": 26,
   "metadata": {},
   "outputs": [],
   "source": [
    "testset_X = test.drop(['price','id', 'amenities', 'description', \n",
    "                 'name', 'neighbourhood'], axis = 1)"
   ]
  },
  {
   "cell_type": "code",
   "execution_count": 27,
   "metadata": {
    "scrolled": true
   },
   "outputs": [
    {
     "data": {
      "text/plain": [
       "array([142.67969314,  23.23686373,  90.72262135, ..., 261.03633381,\n",
       "        28.34039109,  81.77889156])"
      ]
     },
     "execution_count": 27,
     "metadata": {},
     "output_type": "execute_result"
    }
   ],
   "source": [
    "ridge_opt.predict(X_test)"
   ]
  },
  {
   "cell_type": "code",
   "execution_count": 28,
   "metadata": {},
   "outputs": [
    {
     "data": {
      "text/plain": [
       "0.4758218961628917"
      ]
     },
     "execution_count": 28,
     "metadata": {},
     "output_type": "execute_result"
    }
   ],
   "source": [
    "#lasso regression model \n",
    "\n",
    "l_alphas = np.linspace(0.1, 1, 100)\n",
    "\n",
    "lasso_model = LassoCV(alphas=l_alphas, cv=5)\n",
    "\n",
    "lasso_model = lasso_model.fit(X_train, y_train)\n",
    "\n",
    "lasso_model.score(X_train, y_train)"
   ]
  },
  {
   "cell_type": "code",
   "execution_count": 29,
   "metadata": {},
   "outputs": [
    {
     "data": {
      "text/plain": [
       "0.4774615312009919"
      ]
     },
     "execution_count": 29,
     "metadata": {},
     "output_type": "execute_result"
    }
   ],
   "source": [
    "lasso_model.score(X_test, y_test)"
   ]
  },
  {
   "cell_type": "code",
   "execution_count": 30,
   "metadata": {},
   "outputs": [
    {
     "data": {
      "text/plain": [
       "0.5116783744901323"
      ]
     },
     "execution_count": 30,
     "metadata": {},
     "output_type": "execute_result"
    }
   ],
   "source": [
    "#linear regression model\n",
    "\n",
    "linreg = LinearRegression()\n",
    "linreg.fit(X_train, y_train)\n",
    "linreg.score(X_train, y_train)"
   ]
  },
  {
   "cell_type": "code",
   "execution_count": 31,
   "metadata": {
    "scrolled": true
   },
   "outputs": [
    {
     "data": {
      "text/plain": [
       "-1.6742065530116396e+16"
      ]
     },
     "execution_count": 31,
     "metadata": {},
     "output_type": "execute_result"
    }
   ],
   "source": [
    "linreg.score(X_test, y_test)"
   ]
  },
  {
   "cell_type": "code",
   "execution_count": 32,
   "metadata": {},
   "outputs": [
    {
     "name": "stderr",
     "output_type": "stream",
     "text": [
      "/Users/sunnychahal/anaconda3/lib/python3.7/site-packages/sklearn/svm/base.py:922: ConvergenceWarning: Liblinear failed to converge, increase the number of iterations.\n",
      "  \"the number of iterations.\", ConvergenceWarning)\n"
     ]
    },
    {
     "data": {
      "text/plain": [
       "0.4018276453372315"
      ]
     },
     "execution_count": 32,
     "metadata": {},
     "output_type": "execute_result"
    }
   ],
   "source": [
    "#LinearSVR regression model \n",
    "\n",
    "from sklearn.svm import LinearSVR\n",
    "svr = LinearSVR(C = 4)\n",
    "svr.fit(X_train, y_train)\n",
    "svr.score(X_train, y_train)"
   ]
  },
  {
   "cell_type": "code",
   "execution_count": 33,
   "metadata": {},
   "outputs": [
    {
     "data": {
      "text/plain": [
       "0.4049856463949807"
      ]
     },
     "execution_count": 33,
     "metadata": {},
     "output_type": "execute_result"
    }
   ],
   "source": [
    "svr.score(X_test, y_test)"
   ]
  },
  {
   "cell_type": "code",
   "execution_count": 34,
   "metadata": {},
   "outputs": [],
   "source": [
    "test['price'] = ridge_opt.predict(testset_X)"
   ]
  },
  {
   "cell_type": "code",
   "execution_count": 36,
   "metadata": {},
   "outputs": [],
   "source": [
    "test[[\"id\",\"price\"]].to_csv(\"testprediction.csv\", index = False)"
   ]
  }
 ],
 "metadata": {
  "kernel_info": {
   "name": "python3"
  },
  "kernelspec": {
   "display_name": "Python 3",
   "language": "python",
   "name": "python3"
  },
  "language_info": {
   "codemirror_mode": {
    "name": "ipython",
    "version": 3
   },
   "file_extension": ".py",
   "mimetype": "text/x-python",
   "name": "python",
   "nbconvert_exporter": "python",
   "pygments_lexer": "ipython3",
   "version": "3.7.1"
  },
  "nteract": {
   "version": "0.15.0"
  }
 },
 "nbformat": 4,
 "nbformat_minor": 2
}
